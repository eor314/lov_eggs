{
 "cells": [
  {
   "cell_type": "markdown",
   "metadata": {},
   "source": [
    "# Shrink egg bounding boxes\n",
    "## 28/02/21\n",
    "Remove the padding around egg bounding boxes.\n",
    "- bboxes were derived from the centroid of segmented egg regions from Louis' annotations\n",
    "- it was clear from quick SSD testing that the padding was too generous, particulary on small ROIs\n",
    "- original padding was 5 pixels in every direction."
   ]
  },
  {
   "cell_type": "code",
   "execution_count": 1,
   "metadata": {},
   "outputs": [],
   "source": [
    "import os\n",
    "import sys\n",
    "sys.path.append('/home/eorenstein/python_code/lov_eggs/')\n",
    "from utils.xml_ops import change_bb, read_xml"
   ]
  },
  {
   "cell_type": "markdown",
   "metadata": {},
   "source": [
    "Grab all egg image ids and generate a list of annotation files"
   ]
  },
  {
   "cell_type": "code",
   "execution_count": 2,
   "metadata": {},
   "outputs": [
    {
     "data": {
      "text/plain": [
       "True"
      ]
     },
     "execution_count": 2,
     "metadata": {},
     "output_type": "execute_result"
    }
   ],
   "source": [
    "voc_root = '/home/eorenstein/VOCCopepodEgg/'\n",
    "with open(os.path.join(voc_root,'ImageSets/Main/OriginalData/eggs.txt'), 'r') as ff:\n",
    "    eggs = list(ff)\n",
    "    ff.close()\n",
    "\n",
    "eggs = [os.path.join(voc_root, 'Annotations', line.strip()+'.xml') for line in eggs]\n",
    "\n",
    "# test the paths are right\n",
    "os.path.exists(eggs[0])"
   ]
  },
  {
   "cell_type": "markdown",
   "metadata": {},
   "source": [
    "Open one of the original xml file to compare to the new one for sanity check\n",
    "\n",
    "Set the number of pixels to change in each direction. A postive number indicates that the box will SHRINK, a negative that it will get BIGGER (due to pixel indexing)"
   ]
  },
  {
   "cell_type": "code",
   "execution_count": 3,
   "metadata": {},
   "outputs": [],
   "source": [
    "delta = -2"
   ]
  },
  {
   "cell_type": "code",
   "execution_count": 4,
   "metadata": {},
   "outputs": [
    {
     "name": "stdout",
     "output_type": "stream",
     "text": [
      "<?xml version=\"1.0\" encoding=\"utf-8\"?>\n",
      "<annotation>\n",
      "<folder>/Users/eorenstein/Documents/eggs-data/all_eggs_noscale</folder>\n",
      "<filename>4273194.jpg</filename>\n",
      "<source>\n",
      "<database>LOV Arctic Copepods</database>\n",
      "<annotation>Louis EcoTaxa</annotation>\n",
      "<image>UVP5</image>\n",
      "</source>\n",
      "<size>\n",
      "<width>228</width>\n",
      "<height>216</height>\n",
      "<depth>1</depth>\n",
      "</size>\n",
      "<segmented>1</segmented>\n",
      "<object>\n",
      "<name>Copepod</name>\n",
      "<pose>Unspecified</pose>\n",
      "<truncated>0</truncated>\n",
      "<difficult>0</difficult>\n",
      "<bndbox>\n",
      "<xmin>71</xmin>\n",
      "<ymin>66</ymin>\n",
      "<xmax>160</xmax>\n",
      "<ymax>152</ymax>\n",
      "</bndbox>\n",
      "</object>\n",
      "<object>\n",
      "<name>Eggs</name>\n",
      "<pose>Unspecified</pose>\n",
      "<truncated>0</truncated>\n",
      "<difficult>0</difficult>\n",
      "<bndbox>\n",
      "<xmin>75</xmin>\n",
      "<ymin>71</ymin>\n",
      "<xmax>112</xmax>\n",
      "<ymax>112</ymax>\n",
      "</bndbox>\n",
      "</object></annotation>\n"
     ]
    }
   ],
   "source": [
    "tmp = read_xml(eggs[267])\n",
    "print(tmp)"
   ]
  },
  {
   "cell_type": "markdown",
   "metadata": {},
   "source": [
    "Loop over the annotations and resize the bounding boxes"
   ]
  },
  {
   "cell_type": "code",
   "execution_count": 5,
   "metadata": {},
   "outputs": [],
   "source": [
    "for ann in eggs:\n",
    "    \n",
    "    # run the change\n",
    "    out = change_bb(ann, 'Eggs', delta)\n",
    "    \n",
    "    # remove the original file\n",
    "    os.remove(ann)\n",
    "    \n",
    "    # replace it with the new file\n",
    "    with open(ann, 'w') as ff:\n",
    "        ff.write(str(out))\n",
    "        ff.close()"
   ]
  },
  {
   "cell_type": "code",
   "execution_count": 8,
   "metadata": {},
   "outputs": [
    {
     "name": "stdout",
     "output_type": "stream",
     "text": [
      "<?xml version=\"1.0\" encoding=\"utf-8\"?>\n",
      "<annotation>\n",
      "<folder>/Users/eorenstein/Documents/eggs-data/all_eggs_noscale</folder>\n",
      "<filename>4273194.jpg</filename>\n",
      "<source>\n",
      "<database>LOV Arctic Copepods</database>\n",
      "<annotation>Louis EcoTaxa</annotation>\n",
      "<image>UVP5</image>\n",
      "</source>\n",
      "<size>\n",
      "<width>228</width>\n",
      "<height>216</height>\n",
      "<depth>1</depth>\n",
      "</size>\n",
      "<segmented>1</segmented>\n",
      "<object>\n",
      "<name>Copepod</name>\n",
      "<pose>Unspecified</pose>\n",
      "<truncated>0</truncated>\n",
      "<difficult>0</difficult>\n",
      "<bndbox>\n",
      "<xmin>71</xmin>\n",
      "<ymin>66</ymin>\n",
      "<xmax>160</xmax>\n",
      "<ymax>152</ymax>\n",
      "</bndbox>\n",
      "</object>\n",
      "<object>\n",
      "<name>Eggs</name>\n",
      "<pose>Unspecified</pose>\n",
      "<truncated>0</truncated>\n",
      "<difficult>0</difficult>\n",
      "<bndbox>\n",
      "<xmin>73</xmin>\n",
      "<ymin>69</ymin>\n",
      "<xmax>114</xmax>\n",
      "<ymax>114</ymax>\n",
      "</bndbox>\n",
      "</object></annotation>\n"
     ]
    }
   ],
   "source": [
    "tmp = read_xml(eggs[267])\n",
    "print(tmp)"
   ]
  },
  {
   "cell_type": "code",
   "execution_count": null,
   "metadata": {},
   "outputs": [],
   "source": []
  }
 ],
 "metadata": {
  "kernelspec": {
   "display_name": "Python 3.7 (lov_eggs)",
   "language": "python",
   "name": "lov_eggs"
  },
  "language_info": {
   "codemirror_mode": {
    "name": "ipython",
    "version": 3
   },
   "file_extension": ".py",
   "mimetype": "text/x-python",
   "name": "python",
   "nbconvert_exporter": "python",
   "pygments_lexer": "ipython3",
   "version": "3.7.9"
  }
 },
 "nbformat": 4,
 "nbformat_minor": 4
}
